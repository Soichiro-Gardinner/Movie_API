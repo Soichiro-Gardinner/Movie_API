{
 "cells": [
  {
   "cell_type": "code",
   "execution_count": 1,
   "id": "e0d3b941",
   "metadata": {},
   "outputs": [
    {
     "name": "stdout",
     "output_type": "stream",
     "text": [
      "Requirement already satisfied: requests in c:\\anaconda\\envs\\dojo-env\\lib\\site-packages (2.28.1)\n",
      "Requirement already satisfied: idna<4,>=2.5 in c:\\anaconda\\envs\\dojo-env\\lib\\site-packages (from requests) (3.4)\n",
      "Requirement already satisfied: charset-normalizer<3,>=2 in c:\\anaconda\\envs\\dojo-env\\lib\\site-packages (from requests) (2.0.4)\n",
      "Requirement already satisfied: certifi>=2017.4.17 in c:\\anaconda\\envs\\dojo-env\\lib\\site-packages (from requests) (2022.9.24)\n",
      "Requirement already satisfied: urllib3<1.27,>=1.21.1 in c:\\anaconda\\envs\\dojo-env\\lib\\site-packages (from requests) (1.26.13)\n"
     ]
    }
   ],
   "source": [
    "!pip install requests"
   ]
  },
  {
   "cell_type": "code",
   "execution_count": 2,
   "id": "99944432",
   "metadata": {},
   "outputs": [],
   "source": [
    "# Import Necessary Modules\n",
    "import requests\n",
    "import json as jn"
   ]
  },
  {
   "cell_type": "markdown",
   "id": "ab6363f5",
   "metadata": {},
   "source": [
    "### API certification"
   ]
  },
  {
   "cell_type": "code",
   "execution_count": 3,
   "id": "55e27d22",
   "metadata": {},
   "outputs": [
    {
     "name": "stdout",
     "output_type": "stream",
     "text": [
      "Certification Completed\n"
     ]
    }
   ],
   "source": [
    "# Function to add certification (MPAA Rating) to movie information\n",
    "def add_certification(movie_info):\n",
    "    movie_id = movie_info['id']\n",
    "    url = f\"https://api.themoviedb.org/3/movie/{movie_id}?api_key=e6439afc327b0d52d1d2b3517a3493f8\"\n",
    "    response = requests.get(url)\n",
    "    data = jn.loads(response.content.decode('utf-8'))\n",
    "    certification = data['release_dates']['results'][0]['certification']\n",
    "    movie_info['certification'] = certification\n",
    "    return movie_info\n",
    "\n",
    "print(\"Certification Completed\")"
   ]
  },
  {
   "cell_type": "markdown",
   "id": "cb9c9fa8",
   "metadata": {},
   "source": [
    "### Function to Append/Extend"
   ]
  },
  {
   "cell_type": "code",
   "execution_count": 4,
   "id": "bcdf64a5",
   "metadata": {},
   "outputs": [
    {
     "name": "stdout",
     "output_type": "stream",
     "text": [
      "Append done\n"
     ]
    }
   ],
   "source": [
    "import json as jn\n",
    "\n",
    "# Function to append data to a JSON file\n",
    "def append_json(file_path, data):\n",
    "    with open(file_path, 'r+') as file:\n",
    "        file_data = jn.load(file)\n",
    "        file_data.extend(data)\n",
    "        file.seek(0)\n",
    "        jn.dump(file_data, file, indent=4)\n",
    "\n",
    "print(\"Append done\")"
   ]
  },
  {
   "cell_type": "markdown",
   "id": "5a7cd060",
   "metadata": {},
   "source": [
    "- **Example**"
   ]
  },
  {
   "cell_type": "code",
   "execution_count": 5,
   "id": "a56bac08",
   "metadata": {},
   "outputs": [
    {
     "name": "stdout",
     "output_type": "stream",
     "text": [
      "Started\n"
     ]
    },
    {
     "ename": "KeyError",
     "evalue": "'release_dates'",
     "output_type": "error",
     "traceback": [
      "\u001b[1;31m---------------------------------------------------------------------------\u001b[0m",
      "\u001b[1;31mKeyError\u001b[0m                                  Traceback (most recent call last)",
      "Cell \u001b[1;32mIn [5], line 7\u001b[0m\n\u001b[0;32m      2\u001b[0m movie_information \u001b[38;5;241m=\u001b[39m {\n\u001b[0;32m      3\u001b[0m     \u001b[38;5;124m'\u001b[39m\u001b[38;5;124mid\u001b[39m\u001b[38;5;124m'\u001b[39m: \u001b[38;5;124m'\u001b[39m\u001b[38;5;124mtt0848228\u001b[39m\u001b[38;5;124m'\u001b[39m,  \u001b[38;5;66;03m# Example movie ID\u001b[39;00m\n\u001b[0;32m      4\u001b[0m     \u001b[38;5;124m'\u001b[39m\u001b[38;5;124mtitle\u001b[39m\u001b[38;5;124m'\u001b[39m: \u001b[38;5;124m'\u001b[39m\u001b[38;5;124mThe Avengers\u001b[39m\u001b[38;5;124m'\u001b[39m  \u001b[38;5;66;03m# Example movie title\u001b[39;00m\n\u001b[0;32m      5\u001b[0m }\n\u001b[0;32m      6\u001b[0m \u001b[38;5;28mprint\u001b[39m(\u001b[38;5;124m\"\u001b[39m\u001b[38;5;124mStarted\u001b[39m\u001b[38;5;124m\"\u001b[39m)\n\u001b[1;32m----> 7\u001b[0m updated_movie_info \u001b[38;5;241m=\u001b[39m \u001b[43madd_certification\u001b[49m\u001b[43m(\u001b[49m\u001b[43mmovie_information\u001b[49m\u001b[43m)\u001b[49m\n\u001b[0;32m      8\u001b[0m \u001b[38;5;28mprint\u001b[39m(\u001b[38;5;124m\"\u001b[39m\u001b[38;5;124m>....\u001b[39m\u001b[38;5;124m\"\u001b[39m)\n\u001b[0;32m      9\u001b[0m append_json(\u001b[38;5;124m'\u001b[39m\u001b[38;5;124mmovies.json\u001b[39m\u001b[38;5;124m'\u001b[39m, [updated_movie_info])\n",
      "Cell \u001b[1;32mIn [3], line 7\u001b[0m, in \u001b[0;36madd_certification\u001b[1;34m(movie_info)\u001b[0m\n\u001b[0;32m      5\u001b[0m response \u001b[38;5;241m=\u001b[39m requests\u001b[38;5;241m.\u001b[39mget(url)\n\u001b[0;32m      6\u001b[0m data \u001b[38;5;241m=\u001b[39m jn\u001b[38;5;241m.\u001b[39mloads(response\u001b[38;5;241m.\u001b[39mcontent\u001b[38;5;241m.\u001b[39mdecode(\u001b[38;5;124m'\u001b[39m\u001b[38;5;124mutf-8\u001b[39m\u001b[38;5;124m'\u001b[39m))\n\u001b[1;32m----> 7\u001b[0m certification \u001b[38;5;241m=\u001b[39m \u001b[43mdata\u001b[49m\u001b[43m[\u001b[49m\u001b[38;5;124;43m'\u001b[39;49m\u001b[38;5;124;43mrelease_dates\u001b[39;49m\u001b[38;5;124;43m'\u001b[39;49m\u001b[43m]\u001b[49m[\u001b[38;5;124m'\u001b[39m\u001b[38;5;124mresults\u001b[39m\u001b[38;5;124m'\u001b[39m][\u001b[38;5;241m0\u001b[39m][\u001b[38;5;124m'\u001b[39m\u001b[38;5;124mcertification\u001b[39m\u001b[38;5;124m'\u001b[39m]\n\u001b[0;32m      8\u001b[0m movie_info[\u001b[38;5;124m'\u001b[39m\u001b[38;5;124mcertification\u001b[39m\u001b[38;5;124m'\u001b[39m] \u001b[38;5;241m=\u001b[39m certification\n\u001b[0;32m      9\u001b[0m \u001b[38;5;28;01mreturn\u001b[39;00m movie_info\n",
      "\u001b[1;31mKeyError\u001b[0m: 'release_dates'"
     ]
    }
   ],
   "source": [
    "# Example usage\n",
    "movie_information = {\n",
    "    'id': 'tt0848228',  # Example movie ID\n",
    "    'title': 'The Avengers'  # Example movie title\n",
    "}\n",
    "print(\"Started\")\n",
    "updated_movie_info = add_certification(movie_information)\n",
    "print(\">....\")\n",
    "append_json('movies.json', [updated_movie_info])\n",
    "print(\">..\")\n",
    "print(\"Done\")"
   ]
  },
  {
   "cell_type": "code",
   "execution_count": null,
   "id": "15e28922",
   "metadata": {},
   "outputs": [],
   "source": [
    "import pandas as pd\n",
    "import json\n",
    "import requests\n",
    "\n",
    "# Function to add certification (MPAA Rating) to movie information\n",
    "def add_certification(movie_info):\n",
    "    movie_id = movie_info['id']\n",
    "    url = f\"https://api.themoviedb.org/3/movie/{movie_id}?api_key=e6439afc327b0d52d1d2b3517a3493f8\"\n",
    "    response = requests.get(url)\n",
    "    data = json.loads(response.content.decode('utf-8'))\n",
    "    certification = data['release_dates']['results'][0]['certification']\n",
    "    movie_info['certification'] = certification\n",
    "    return movie_info\n",
    "\n",
    "# Function to append data to a JSON file\n",
    "def append_json(file_path, data):\n",
    "    with open(file_path, 'a') as file:\n",
    "        json.dump(data, file)\n",
    "        file.write('\\n')\n",
    "\n",
    "# Load the filtered movie data from Part 1\n",
    "filtered_movies = pd.read_csv('filtered_movies.csv.gz')\n",
    "\n",
    "# Iterate over each movie in the filtered dataset\n",
    "for _, movie in filtered_movies.iterrows():\n",
    "    movie_info = {\n",
    "        'id': movie['imdb_id'],\n",
    "        'title': movie['title']\n",
    "    }\n",
    "    updated_movie_info = add_certification(movie_info)\n",
    "    append_json('movies.json', updated_movie_info)\n",
    "\n",
    "print(\"Extraction and appending completed.\")"
   ]
  },
  {
   "cell_type": "code",
   "execution_count": null,
   "id": "bc7cc1ac",
   "metadata": {},
   "outputs": [],
   "source": []
  },
  {
   "cell_type": "code",
   "execution_count": null,
   "id": "bd076baf",
   "metadata": {},
   "outputs": [],
   "source": []
  }
 ],
 "metadata": {
  "kernelspec": {
   "display_name": "Python (dojo-env)",
   "language": "python",
   "name": "dojo-env"
  },
  "language_info": {
   "codemirror_mode": {
    "name": "ipython",
    "version": 3
   },
   "file_extension": ".py",
   "mimetype": "text/x-python",
   "name": "python",
   "nbconvert_exporter": "python",
   "pygments_lexer": "ipython3",
   "version": "3.9.15"
  },
  "toc": {
   "base_numbering": 1,
   "nav_menu": {},
   "number_sections": true,
   "sideBar": true,
   "skip_h1_title": false,
   "title_cell": "Table of Contents",
   "title_sidebar": "Contents",
   "toc_cell": false,
   "toc_position": {},
   "toc_section_display": true,
   "toc_window_display": false
  }
 },
 "nbformat": 4,
 "nbformat_minor": 5
}
