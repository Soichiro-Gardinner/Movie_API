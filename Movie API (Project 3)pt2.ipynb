{
 "cells": [
  {
   "cell_type": "markdown",
   "id": "1117374a",
   "metadata": {},
   "source": [
    "## <span style=\"color:#FF0000\">Part 1</span>\n"
   ]
  },
  {
   "cell_type": "markdown",
   "id": "7d41867d",
   "metadata": {},
   "source": [
    "1. # Load the data into your project using pandas:\n",
    "\n",
    "- Open a Python environment or **Jupyter Notebook**.\n",
    "- Import the pandas library: **import pandas as pd**.\n",
    "- Use the copied link addresses to **read each file into a DataFrame()**:"
   ]
  },
  {
   "cell_type": "code",
   "execution_count": 1,
   "id": "a66a91bf",
   "metadata": {},
   "outputs": [],
   "source": [
    "# Imports\n",
    "import pandas as pd\n",
    "import numpy as np"
   ]
  },
  {
   "cell_type": "code",
   "execution_count": 2,
   "id": "e0d3b941",
   "metadata": {},
   "outputs": [
    {
     "name": "stdout",
     "output_type": "stream",
     "text": [
      "CSV Readings complete\n"
     ]
    }
   ],
   "source": [
    "basics_url = \"https://datasets.imdbws.com/title.basics.tsv.gz\"\n",
    "akas_url = \"https://datasets.imdbws.com/title.akas.tsv.gz\"\n",
    "ratings_url = \"https://datasets.imdbws.com/title.ratings.tsv.gz\"\n",
    "\n",
    "basics = pd.read_csv(basics_url, sep='\\t', low_memory=False)\n",
    "akas = pd.read_csv(akas_url, sep='\\t', low_memory=False)\n",
    "ratings = pd.read_csv(ratings_url, sep='\\t', low_memory=False)\n",
    "print(\"CSV Readings complete\")"
   ]
  },
  {
   "cell_type": "code",
   "execution_count": 3,
   "id": "e2cbe49d",
   "metadata": {},
   "outputs": [
    {
     "data": {
      "text/html": [
       "<div>\n",
       "<style scoped>\n",
       "    .dataframe tbody tr th:only-of-type {\n",
       "        vertical-align: middle;\n",
       "    }\n",
       "\n",
       "    .dataframe tbody tr th {\n",
       "        vertical-align: top;\n",
       "    }\n",
       "\n",
       "    .dataframe thead th {\n",
       "        text-align: right;\n",
       "    }\n",
       "</style>\n",
       "<table border=\"1\" class=\"dataframe\">\n",
       "  <thead>\n",
       "    <tr style=\"text-align: right;\">\n",
       "      <th></th>\n",
       "      <th>tconst</th>\n",
       "      <th>titleType</th>\n",
       "      <th>primaryTitle</th>\n",
       "      <th>originalTitle</th>\n",
       "      <th>isAdult</th>\n",
       "      <th>startYear</th>\n",
       "      <th>endYear</th>\n",
       "      <th>runtimeMinutes</th>\n",
       "      <th>genres</th>\n",
       "    </tr>\n",
       "  </thead>\n",
       "  <tbody>\n",
       "    <tr>\n",
       "      <th>0</th>\n",
       "      <td>tt0000001</td>\n",
       "      <td>short</td>\n",
       "      <td>Carmencita</td>\n",
       "      <td>Carmencita</td>\n",
       "      <td>0</td>\n",
       "      <td>1894</td>\n",
       "      <td>\\N</td>\n",
       "      <td>1</td>\n",
       "      <td>Documentary,Short</td>\n",
       "    </tr>\n",
       "    <tr>\n",
       "      <th>1</th>\n",
       "      <td>tt0000002</td>\n",
       "      <td>short</td>\n",
       "      <td>Le clown et ses chiens</td>\n",
       "      <td>Le clown et ses chiens</td>\n",
       "      <td>0</td>\n",
       "      <td>1892</td>\n",
       "      <td>\\N</td>\n",
       "      <td>5</td>\n",
       "      <td>Animation,Short</td>\n",
       "    </tr>\n",
       "    <tr>\n",
       "      <th>2</th>\n",
       "      <td>tt0000003</td>\n",
       "      <td>short</td>\n",
       "      <td>Pauvre Pierrot</td>\n",
       "      <td>Pauvre Pierrot</td>\n",
       "      <td>0</td>\n",
       "      <td>1892</td>\n",
       "      <td>\\N</td>\n",
       "      <td>4</td>\n",
       "      <td>Animation,Comedy,Romance</td>\n",
       "    </tr>\n",
       "    <tr>\n",
       "      <th>3</th>\n",
       "      <td>tt0000004</td>\n",
       "      <td>short</td>\n",
       "      <td>Un bon bock</td>\n",
       "      <td>Un bon bock</td>\n",
       "      <td>0</td>\n",
       "      <td>1892</td>\n",
       "      <td>\\N</td>\n",
       "      <td>12</td>\n",
       "      <td>Animation,Short</td>\n",
       "    </tr>\n",
       "    <tr>\n",
       "      <th>4</th>\n",
       "      <td>tt0000005</td>\n",
       "      <td>short</td>\n",
       "      <td>Blacksmith Scene</td>\n",
       "      <td>Blacksmith Scene</td>\n",
       "      <td>0</td>\n",
       "      <td>1893</td>\n",
       "      <td>\\N</td>\n",
       "      <td>1</td>\n",
       "      <td>Comedy,Short</td>\n",
       "    </tr>\n",
       "  </tbody>\n",
       "</table>\n",
       "</div>"
      ],
      "text/plain": [
       "      tconst titleType            primaryTitle           originalTitle  \\\n",
       "0  tt0000001     short              Carmencita              Carmencita   \n",
       "1  tt0000002     short  Le clown et ses chiens  Le clown et ses chiens   \n",
       "2  tt0000003     short          Pauvre Pierrot          Pauvre Pierrot   \n",
       "3  tt0000004     short             Un bon bock             Un bon bock   \n",
       "4  tt0000005     short        Blacksmith Scene        Blacksmith Scene   \n",
       "\n",
       "  isAdult startYear endYear runtimeMinutes                    genres  \n",
       "0       0      1894      \\N              1         Documentary,Short  \n",
       "1       0      1892      \\N              5           Animation,Short  \n",
       "2       0      1892      \\N              4  Animation,Comedy,Romance  \n",
       "3       0      1892      \\N             12           Animation,Short  \n",
       "4       0      1893      \\N              1              Comedy,Short  "
      ]
     },
     "execution_count": 3,
     "metadata": {},
     "output_type": "execute_result"
    }
   ],
   "source": [
    "# Example\n",
    "basics.head()"
   ]
  },
  {
   "cell_type": "markdown",
   "id": "d8876ac9",
   "metadata": {},
   "source": [
    "2. # Perform data preprocessing and filtering:\n",
    "\n",
    "- Replace \"\\N\" with np.nan in each DataFrame: basics.replace({'\\\\N': np.nan}, inplace=True), akas.replace({'\\\\N': np.nan}, inplace=True), ratings.replace({'\\\\N': np.nan}, inplace=True).\n",
    "- Filter the basics DataFrame based on the provided specifications:"
   ]
  },
  {
   "cell_type": "code",
   "execution_count": 4,
   "id": "78b46030",
   "metadata": {},
   "outputs": [
    {
     "name": "stdout",
     "output_type": "stream",
     "text": [
      "NaNs were Replaced Succesfully\n"
     ]
    }
   ],
   "source": [
    "basics = pd.DataFrame(basics).replace({'\\\\N': np.nan})\n",
    "akas = pd.DataFrame(akas).replace({'\\\\N': np.nan})\n",
    "ratings = pd.DataFrame(ratings).replace({'\\\\N': np.nan})\n",
    "\n",
    "print(\"NaNs were Replaced Succesfully\")"
   ]
  },
  {
   "cell_type": "code",
   "execution_count": 5,
   "id": "30f1ebfb",
   "metadata": {},
   "outputs": [],
   "source": [
    "basics = basics.dropna(subset=['runtimeMinutes', 'genres'])\n",
    "basics = basics[basics['titleType'] == 'movie']\n",
    "basics['startYear'] = pd.to_numeric(basics['startYear'], errors='coerce') # Convert 'startYear' to numeric type\n",
    "basics = basics[(basics['startYear'] >= 2000) & (basics['startYear'] <= 2021)]\n",
    "basics = basics[~basics['genres'].str.contains('documentary', case=False)]"
   ]
  },
  {
   "cell_type": "markdown",
   "id": "ac19a9cc",
   "metadata": {},
   "source": [
    "### Filter the basics DataFrame to include only US movies based on the akas DataFrame:"
   ]
  },
  {
   "cell_type": "code",
   "execution_count": 6,
   "id": "ea7b0fdf",
   "metadata": {},
   "outputs": [],
   "source": [
    "keepers = basics['tconst'].isin(akas[akas['region'] == 'US']['titleId'])\n",
    "basics = basics[keepers]"
   ]
  },
  {
   "cell_type": "markdown",
   "id": "206f1376",
   "metadata": {},
   "source": [
    "3. # Save the filtered DataFrames to compressed CSV files:\n",
    "\n",
    "- Create a \"Data\" folder within your repository if it doesn't already exist.\n",
    "- Use the to_csv method to save each DataFrame with compression:"
   ]
  },
  {
   "cell_type": "code",
   "execution_count": 7,
   "id": "a90cf880",
   "metadata": {},
   "outputs": [],
   "source": [
    "basics.to_csv(\"Data/title_basics.csv.gz\", compression='gzip', index=False)\n",
    "akas.to_csv(\"Data/title_akas.csv.gz\", compression='gzip', index=False)\n",
    "ratings.to_csv(\"Data/title_ratings.csv.gz\", compression='gzip', index=False)"
   ]
  },
  {
   "cell_type": "code",
   "execution_count": 8,
   "id": "3a1e025c",
   "metadata": {},
   "outputs": [
    {
     "name": "stdout",
     "output_type": "stream",
     "text": [
      "Check \"Data\" Folder\n"
     ]
    }
   ],
   "source": [
    "print(\"Check \\\"Data\\\" Folder\")"
   ]
  },
  {
   "cell_type": "markdown",
   "id": "d549eae2",
   "metadata": {},
   "source": [
    "## <span style=\"color:#ffa500\">Part 2</span>\n"
   ]
  },
  {
   "cell_type": "markdown",
   "id": "38f30f41",
   "metadata": {},
   "source": [
    "# More Data"
   ]
  },
  {
   "cell_type": "markdown",
   "id": "69829868",
   "metadata": {},
   "source": [
    "- **install:** tmdbsimple"
   ]
  },
  {
   "cell_type": "code",
   "execution_count": 10,
   "id": "31da19a4",
   "metadata": {},
   "outputs": [
    {
     "name": "stdout",
     "output_type": "stream",
     "text": [
      "Collecting tmdbsimple\n",
      "  Downloading tmdbsimple-2.9.1-py3-none-any.whl (38 kB)\n",
      "Requirement already satisfied: requests in c:\\anaconda\\envs\\dojo-env\\lib\\site-packages (from tmdbsimple) (2.28.1)\n",
      "Requirement already satisfied: charset-normalizer<3,>=2 in c:\\anaconda\\envs\\dojo-env\\lib\\site-packages (from requests->tmdbsimple) (2.0.4)\n",
      "Requirement already satisfied: certifi>=2017.4.17 in c:\\anaconda\\envs\\dojo-env\\lib\\site-packages (from requests->tmdbsimple) (2022.9.24)\n",
      "Requirement already satisfied: urllib3<1.27,>=1.21.1 in c:\\anaconda\\envs\\dojo-env\\lib\\site-packages (from requests->tmdbsimple) (1.26.13)\n",
      "Requirement already satisfied: idna<4,>=2.5 in c:\\anaconda\\envs\\dojo-env\\lib\\site-packages (from requests->tmdbsimple) (3.4)\n",
      "Installing collected packages: tmdbsimple\n",
      "Successfully installed tmdbsimple-2.9.1\n"
     ]
    }
   ],
   "source": [
    "!pip install tmdbsimple"
   ]
  },
  {
   "cell_type": "code",
   "execution_count": 17,
   "id": "1c8aeb12",
   "metadata": {},
   "outputs": [
    {
     "name": "stdout",
     "output_type": "stream",
     "text": [
      "The Avengers Certification: PG-13\n",
      "The Notebook Certification: PG-13\n"
     ]
    }
   ],
   "source": [
    "import tmdbsimple as tmdb\n",
    "import pandas as pd\n",
    "\n",
    "# Set your TMDB API key\n",
    "tmdb.API_KEY = 'f9333936ac8c033efb0442f581fc52a5'\n",
    "\n",
    "# Function to get movie certification (MPAA Rating) from TMDB API\n",
    "def get_movie_certification(movie_id):\n",
    "    try:\n",
    "        movie = tmdb.Movies(movie_id)\n",
    "        response = movie.info()\n",
    "        release_dates = movie.release_dates()['results']\n",
    "        certification = None\n",
    "        for result in release_dates:\n",
    "            if 'iso_3166_1' in result and result['iso_3166_1'] == 'US':\n",
    "                certification = result['release_dates'][0]['certification']\n",
    "                break\n",
    "        return certification\n",
    "    except tmdb.exceptions.TMDBException as e:\n",
    "        print(f\"Error retrieving data for movie ID: {movie_id}\")\n",
    "        print(str(e))\n",
    "\n",
    "# Test the get_movie_certification() function\n",
    "avengers_certification = get_movie_certification(\"tt0848228\")\n",
    "notebook_certification = get_movie_certification(\"tt0332280\")\n",
    "\n",
    "print(\"The Avengers Certification:\", avengers_certification)\n",
    "print(\"The Notebook Certification:\", notebook_certification)\n"
   ]
  }
 ],
 "metadata": {
  "kernelspec": {
   "display_name": "Python (dojo-env)",
   "language": "python",
   "name": "dojo-env"
  },
  "language_info": {
   "codemirror_mode": {
    "name": "ipython",
    "version": 3
   },
   "file_extension": ".py",
   "mimetype": "text/x-python",
   "name": "python",
   "nbconvert_exporter": "python",
   "pygments_lexer": "ipython3",
   "version": "3.9.15"
  },
  "toc": {
   "base_numbering": 1,
   "nav_menu": {},
   "number_sections": true,
   "sideBar": true,
   "skip_h1_title": false,
   "title_cell": "Table of Contents",
   "title_sidebar": "Contents",
   "toc_cell": false,
   "toc_position": {},
   "toc_section_display": true,
   "toc_window_display": false
  }
 },
 "nbformat": 4,
 "nbformat_minor": 5
}
